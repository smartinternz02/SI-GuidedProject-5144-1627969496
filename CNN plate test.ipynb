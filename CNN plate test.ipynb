{
 "cells": [
  {
   "cell_type": "code",
   "execution_count": 234,
   "id": "4d580494",
   "metadata": {},
   "outputs": [],
   "source": [
    "#Testing the model\n",
    "\n",
    "\n",
    "from tensorflow.keras.models import load_model\n",
    "from tensorflow.keras.preprocessing import image\n"
   ]
  },
  {
   "cell_type": "code",
   "execution_count": 235,
   "id": "2a1ec58d",
   "metadata": {},
   "outputs": [],
   "source": [
    "platemodel = load_model(\"plate.h5\")"
   ]
  },
  {
   "cell_type": "code",
   "execution_count": 236,
   "id": "1e2fff54",
   "metadata": {},
   "outputs": [],
   "source": [
    "img = image.load_img(r\"C:\\koe\\test\\qw.jpg\",target_size = (32,32)) #Detecting qatar plate number"
   ]
  },
  {
   "cell_type": "code",
   "execution_count": 237,
   "id": "04676306",
   "metadata": {},
   "outputs": [],
   "source": [
    "x = image.img_to_array(img) #to array"
   ]
  },
  {
   "cell_type": "code",
   "execution_count": 238,
   "id": "e3823cbf",
   "metadata": {},
   "outputs": [
    {
     "data": {
      "text/plain": [
       "(32, 32, 3)"
      ]
     },
     "execution_count": 238,
     "metadata": {},
     "output_type": "execute_result"
    }
   ],
   "source": [
    "x.shape"
   ]
  },
  {
   "cell_type": "code",
   "execution_count": 239,
   "id": "2fc507b3",
   "metadata": {},
   "outputs": [],
   "source": [
    "import numpy as np\n",
    "x = np.expand_dims(x,axis = 0)"
   ]
  },
  {
   "cell_type": "code",
   "execution_count": 240,
   "id": "d12b46ea",
   "metadata": {},
   "outputs": [
    {
     "data": {
      "text/plain": [
       "(1, 32, 32, 3)"
      ]
     },
     "execution_count": 240,
     "metadata": {},
     "output_type": "execute_result"
    }
   ],
   "source": [
    "x.shape"
   ]
  },
  {
   "cell_type": "code",
   "execution_count": 241,
   "id": "d4fba9cf",
   "metadata": {},
   "outputs": [
    {
     "name": "stdout",
     "output_type": "stream",
     "text": [
      "WARNING:tensorflow:5 out of the last 12 calls to <function Model.make_predict_function.<locals>.predict_function at 0x0000024AB33C4700> triggered tf.function retracing. Tracing is expensive and the excessive number of tracings could be due to (1) creating @tf.function repeatedly in a loop, (2) passing tensors with different shapes, (3) passing Python objects instead of tensors. For (1), please define your @tf.function outside of the loop. For (2), @tf.function has experimental_relax_shapes=True option that relaxes argument shapes that can avoid unnecessary retracing. For (3), please refer to https://www.tensorflow.org/tutorials/customization/performance#python_or_tensor_args and https://www.tensorflow.org/api_docs/python/tf/function for  more details.\n"
     ]
    }
   ],
   "source": [
    "pred = platemodel.predict(x)"
   ]
  },
  {
   "cell_type": "code",
   "execution_count": 242,
   "id": "9d1eefc7",
   "metadata": {},
   "outputs": [
    {
     "data": {
      "text/plain": [
       "array([[0., 0., 0., 1., 0., 0.]], dtype=float32)"
      ]
     },
     "execution_count": 242,
     "metadata": {},
     "output_type": "execute_result"
    }
   ],
   "source": [
    "pred"
   ]
  },
  {
   "cell_type": "code",
   "execution_count": 243,
   "id": "12b078b7",
   "metadata": {},
   "outputs": [],
   "source": [
    "#bahrain[1,0,0,0,0,0]\n",
    "#kuwait[0,1,0,0,0,0]\n",
    "#oman[0,0,1,0,0,0]\n",
    "#qatar[0,0,0,1,0,0]\n",
    "#saudi arabia[0,0,0,0,1,0]\n",
    "#united arab emirates[0,0,0,0,0,1]"
   ]
  },
  {
   "cell_type": "code",
   "execution_count": 244,
   "id": "21fc84b9",
   "metadata": {},
   "outputs": [],
   "source": [
    "index = [\"bahrain\",\"kuwait\",\"oman\",\"qatar\",\"saudi arabia\",\"united arab emirates\"]\n",
    "prediction = index[np.argmax(pred[0])]"
   ]
  },
  {
   "cell_type": "code",
   "execution_count": 245,
   "id": "8f428bee",
   "metadata": {},
   "outputs": [
    {
     "data": {
      "text/plain": [
       "'qatar'"
      ]
     },
     "execution_count": 245,
     "metadata": {},
     "output_type": "execute_result"
    }
   ],
   "source": [
    "prediction"
   ]
  },
  {
   "cell_type": "code",
   "execution_count": null,
   "id": "1ced7135",
   "metadata": {},
   "outputs": [],
   "source": []
  },
  {
   "cell_type": "code",
   "execution_count": null,
   "id": "35294146",
   "metadata": {},
   "outputs": [],
   "source": []
  },
  {
   "cell_type": "code",
   "execution_count": null,
   "id": "86b267d4",
   "metadata": {},
   "outputs": [],
   "source": []
  },
  {
   "cell_type": "code",
   "execution_count": null,
   "id": "0e4e94a1",
   "metadata": {},
   "outputs": [],
   "source": []
  },
  {
   "cell_type": "code",
   "execution_count": null,
   "id": "ad99ea48",
   "metadata": {},
   "outputs": [],
   "source": []
  }
 ],
 "metadata": {
  "kernelspec": {
   "display_name": "Python 3",
   "language": "python",
   "name": "python3"
  },
  "language_info": {
   "codemirror_mode": {
    "name": "ipython",
    "version": 3
   },
   "file_extension": ".py",
   "mimetype": "text/x-python",
   "name": "python",
   "nbconvert_exporter": "python",
   "pygments_lexer": "ipython3",
   "version": "3.8.8"
  }
 },
 "nbformat": 4,
 "nbformat_minor": 5
}
